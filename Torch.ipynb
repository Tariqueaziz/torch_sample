{
 "cells": [
  {
   "cell_type": "code",
   "execution_count": 1,
   "metadata": {},
   "outputs": [
    {
     "data": {
      "text/plain": [
       "device(type='cuda', index=0)"
      ]
     },
     "execution_count": 1,
     "metadata": {},
     "output_type": "execute_result"
    }
   ],
   "source": [
    "import torch\n",
    "import torchvision.transforms as transforms\n",
    "import torchvision\n",
    "import pylab as plt\n",
    "import numpy as np\n",
    "import torch.nn as nn\n",
    "import torch.nn.functional as F\n",
    "import torch.optim as optim\n",
    "device = torch.device(\"cuda:0\" if torch.cuda.is_available() else \"cpu\")\n",
    "import seaborn as sns\n",
    "import pandas as pd\n",
    "device"
   ]
  },
  {
   "cell_type": "code",
   "execution_count": 2,
   "metadata": {},
   "outputs": [],
   "source": [
    "def loss_dataset(model, dataloader):\n",
    "    correct = 0\n",
    "    total = 0\n",
    "    with torch.no_grad():\n",
    "        for data in dataloader:\n",
    "            X, y = data[0].to(device), data[1].to(device)\n",
    "            outputs = model(X)\n",
    "            loss = criterion(outputs, y)\n",
    "            total += y.size(0)\n",
    "            correct += loss.item()\n",
    "    return correct * 1.0 / total\n",
    "\n",
    "def accuracy_batch(model, X, y):\n",
    "    outputs = model(X)\n",
    "    _, predicted = torch.max(outputs.data, 1)\n",
    "    return (predicted == y).sum().item() / y.size(0)\n",
    "\n",
    "def loss_batch(model, X, y):\n",
    "    outputs = model(X)\n",
    "    return criterion(outputs, y).item() / y.size(0)\n",
    "    \n",
    "def accuracy_dataset(model, dataloader):\n",
    "    correct = 0\n",
    "    total = 0\n",
    "    with torch.no_grad():\n",
    "        for data in dataloader:\n",
    "            X, y = data[0].to(device), data[1].to(device)\n",
    "            outputs = model(X)\n",
    "            _, predicted = torch.max(outputs.data, 1)\n",
    "            total += y.size(0)\n",
    "            correct += (predicted == y).sum().item()\n",
    "    return correct * 1.0 / total\n",
    "\n",
    "def optimize(model, optimizer, train_data, val_data, epochs, log_file=\"log.csv\", model_file=\"nn.chkp\"):\n",
    "    best_loss = float(\"inf\")\n",
    "    log = pd.DataFrame(columns=['step', 'metric', 'value'])\n",
    "    \n",
    "    for i in range(1, epochs+1):\n",
    "        for j, (inputs, labels) in enumerate(train_data):\n",
    "            inputs, labels = inputs.to(device), labels.to(device)\n",
    "\n",
    "            # zero the parameter gradients\n",
    "            optimizer.zero_grad()\n",
    "\n",
    "            # forward + backward + optimize\n",
    "            outputs = model(inputs)\n",
    "            loss = criterion(outputs, labels)\n",
    "            loss.backward()\n",
    "            optimizer.step()\n",
    "\n",
    "        loss = loss_dataset(model, train_data)\n",
    "        accuracy = accuracy_dataset(model, train_data)\n",
    "        val_loss = loss_dataset(model, val_data)\n",
    "        val_accuracy = accuracy_dataset(model, val_data)\n",
    "        print(\"step: %i, loss: %f, accuracy: %f, Validation loss: %f, Validation accuracy: %f\" % (i, loss, accuracy, val_loss, val_accuracy))\n",
    "        log = log.append({\"step\":i, \"metric\":\"train_loss\", \"value\": loss}, ignore_index=True)\n",
    "        log = log.append({\"step\":i, \"metric\":'train_accuracy', \"value\": accuracy}, ignore_index=True)\n",
    "        log = log.append({\"step\":i, \"metric\":\"val_loss\", \"value\": val_loss}, ignore_index=True)\n",
    "        log = log.append({\"step\":i, \"metric\":'val_accuracy', \"value\": val_accuracy}, ignore_index=True)\n",
    "        if(val_loss < best_loss):\n",
    "            best_loss = val_loss\n",
    "            torch.save(model.state_dict(), model_file)\n",
    "    log.to_csv(log_file, index=False)\n"
   ]
  },
  {
   "cell_type": "code",
   "execution_count": 9,
   "metadata": {},
   "outputs": [
    {
     "name": "stdout",
     "output_type": "stream",
     "text": [
      "Files already downloaded and verified\n",
      "Files already downloaded and verified\n",
      "step: 1, loss: 0.002256, accuracy: 0.100000, Validation loss: 0.002302, Validation accuracy: 0.103800\n",
      "step: 2, loss: 0.002254, accuracy: 0.113180, Validation loss: 0.002300, Validation accuracy: 0.117400\n",
      "step: 3, loss: 0.002251, accuracy: 0.206700, Validation loss: 0.002297, Validation accuracy: 0.213800\n",
      "step: 4, loss: 0.002242, accuracy: 0.222020, Validation loss: 0.002287, Validation accuracy: 0.223800\n",
      "step: 5, loss: 0.002169, accuracy: 0.198600, Validation loss: 0.002211, Validation accuracy: 0.201000\n",
      "step: 6, loss: 0.001991, accuracy: 0.256740, Validation loss: 0.002022, Validation accuracy: 0.264400\n",
      "step: 7, loss: 0.001884, accuracy: 0.292340, Validation loss: 0.001910, Validation accuracy: 0.308000\n",
      "step: 8, loss: 0.001753, accuracy: 0.340100, Validation loss: 0.001775, Validation accuracy: 0.354400\n",
      "step: 9, loss: 0.001625, accuracy: 0.381960, Validation loss: 0.001646, Validation accuracy: 0.399600\n",
      "step: 10, loss: 0.001611, accuracy: 0.397240, Validation loss: 0.001636, Validation accuracy: 0.410200\n",
      "step: 11, loss: 0.001501, accuracy: 0.431760, Validation loss: 0.001525, Validation accuracy: 0.442000\n",
      "step: 12, loss: 0.001463, accuracy: 0.448960, Validation loss: 0.001486, Validation accuracy: 0.457400\n",
      "step: 13, loss: 0.001467, accuracy: 0.454380, Validation loss: 0.001491, Validation accuracy: 0.458400\n",
      "step: 14, loss: 0.001388, accuracy: 0.480460, Validation loss: 0.001411, Validation accuracy: 0.486600\n",
      "step: 15, loss: 0.001329, accuracy: 0.509800, Validation loss: 0.001355, Validation accuracy: 0.517400\n",
      "step: 16, loss: 0.001333, accuracy: 0.502400, Validation loss: 0.001364, Validation accuracy: 0.504400\n",
      "step: 17, loss: 0.001252, accuracy: 0.531680, Validation loss: 0.001282, Validation accuracy: 0.533800\n",
      "step: 18, loss: 0.001240, accuracy: 0.548680, Validation loss: 0.001279, Validation accuracy: 0.543000\n",
      "step: 19, loss: 0.001161, accuracy: 0.569560, Validation loss: 0.001203, Validation accuracy: 0.561800\n",
      "step: 20, loss: 0.001130, accuracy: 0.584920, Validation loss: 0.001176, Validation accuracy: 0.575200\n",
      "step: 21, loss: 0.001095, accuracy: 0.598060, Validation loss: 0.001141, Validation accuracy: 0.588200\n",
      "step: 22, loss: 0.001104, accuracy: 0.595840, Validation loss: 0.001160, Validation accuracy: 0.582400\n",
      "step: 23, loss: 0.001072, accuracy: 0.605980, Validation loss: 0.001136, Validation accuracy: 0.588800\n",
      "step: 24, loss: 0.001002, accuracy: 0.637720, Validation loss: 0.001076, Validation accuracy: 0.614200\n",
      "step: 25, loss: 0.000953, accuracy: 0.656080, Validation loss: 0.001027, Validation accuracy: 0.638600\n",
      "step: 26, loss: 0.000951, accuracy: 0.658680, Validation loss: 0.001037, Validation accuracy: 0.633600\n",
      "step: 27, loss: 0.000923, accuracy: 0.668800, Validation loss: 0.001021, Validation accuracy: 0.641000\n",
      "step: 28, loss: 0.000875, accuracy: 0.682680, Validation loss: 0.000985, Validation accuracy: 0.650600\n",
      "step: 29, loss: 0.000817, accuracy: 0.709160, Validation loss: 0.000934, Validation accuracy: 0.674200\n",
      "step: 30, loss: 0.000825, accuracy: 0.702880, Validation loss: 0.000957, Validation accuracy: 0.662200\n",
      "step: 31, loss: 0.000841, accuracy: 0.692780, Validation loss: 0.000989, Validation accuracy: 0.656200\n",
      "step: 32, loss: 0.000769, accuracy: 0.721520, Validation loss: 0.000928, Validation accuracy: 0.675000\n",
      "step: 33, loss: 0.000703, accuracy: 0.751040, Validation loss: 0.000871, Validation accuracy: 0.692400\n",
      "step: 34, loss: 0.000676, accuracy: 0.759240, Validation loss: 0.000873, Validation accuracy: 0.690200\n",
      "step: 35, loss: 0.000697, accuracy: 0.744000, Validation loss: 0.000910, Validation accuracy: 0.679000\n",
      "step: 36, loss: 0.000654, accuracy: 0.769220, Validation loss: 0.000874, Validation accuracy: 0.701600\n",
      "step: 37, loss: 0.000635, accuracy: 0.775160, Validation loss: 0.000870, Validation accuracy: 0.703800\n",
      "step: 38, loss: 0.000616, accuracy: 0.778020, Validation loss: 0.000898, Validation accuracy: 0.699600\n",
      "step: 39, loss: 0.000559, accuracy: 0.802500, Validation loss: 0.000844, Validation accuracy: 0.712600\n",
      "step: 40, loss: 0.000499, accuracy: 0.824140, Validation loss: 0.000806, Validation accuracy: 0.726400\n",
      "step: 41, loss: 0.000535, accuracy: 0.810580, Validation loss: 0.000840, Validation accuracy: 0.711200\n",
      "step: 42, loss: 0.000472, accuracy: 0.832840, Validation loss: 0.000826, Validation accuracy: 0.718800\n",
      "step: 43, loss: 0.000438, accuracy: 0.852960, Validation loss: 0.000796, Validation accuracy: 0.731600\n",
      "step: 44, loss: 0.000385, accuracy: 0.867960, Validation loss: 0.000810, Validation accuracy: 0.737400\n",
      "step: 45, loss: 0.000416, accuracy: 0.851160, Validation loss: 0.000873, Validation accuracy: 0.722400\n",
      "step: 46, loss: 0.000435, accuracy: 0.840340, Validation loss: 0.000906, Validation accuracy: 0.713400\n",
      "step: 47, loss: 0.000348, accuracy: 0.876520, Validation loss: 0.000877, Validation accuracy: 0.726000\n",
      "step: 48, loss: 0.000338, accuracy: 0.881280, Validation loss: 0.000894, Validation accuracy: 0.723200\n",
      "step: 49, loss: 0.000288, accuracy: 0.900940, Validation loss: 0.000909, Validation accuracy: 0.731000\n",
      "step: 50, loss: 0.000306, accuracy: 0.885360, Validation loss: 0.000979, Validation accuracy: 0.720200\n",
      "CPU times: user 4min 19s, sys: 1min 6s, total: 5min 25s\n",
      "Wall time: 7min 40s\n"
     ]
    }
   ],
   "source": [
    "%%time\n",
    "class Net(nn.Module):\n",
    "    def __init__(self):\n",
    "        super(Net, self).__init__()\n",
    "        self.conv1 = nn.Conv2d(3, 32, 3, 1, 1)\n",
    "        self.pool = nn.MaxPool2d(2, 2)\n",
    "        self.conv2 = nn.Conv2d(32, 64, 3, 1, 1)\n",
    "        self.conv3 = nn.Conv2d(64, 128, 3, 1, 1)\n",
    "        self.conv4 = nn.Conv2d(128, 256, 3, 1, 1)\n",
    "#         self.conv5 = nn.Conv2d(256, 512, 3, 1, 1)\n",
    "        self.fc1 = nn.Linear(256 * 2 * 2, 1024)\n",
    "        self.fc2 = nn.Linear(1024, 256)\n",
    "        self.fc3 = nn.Linear(256, 10)\n",
    "\n",
    "    def forward(self, x):\n",
    "        x = self.pool(F.relu(self.conv1(x)))\n",
    "#         print(np.shape(x))\n",
    "        x = self.pool(F.relu(self.conv2(x)))\n",
    "#         print(np.shape(x))\n",
    "        x = self.pool(F.relu(self.conv3(x)))\n",
    "#         print(np.shape(x))\n",
    "        x = self.pool(F.relu(self.conv4(x)))\n",
    "    \n",
    "#         x = self.pool(F.relu(self.conv5(x)))\n",
    "        x = x.view(-1, 256 * 2 * 2)\n",
    "        x = F.relu(self.fc1(x))\n",
    "        x = F.relu(self.fc2(x))\n",
    "        x = self.fc3(x)\n",
    "        return x\n",
    "\n",
    "epochs = 50\n",
    "batch_size=1024\n",
    "transform = transforms.Compose(\n",
    "    [transforms.ToTensor(),\n",
    "     transforms.Normalize((0.5, 0.5, 0.5), (0.5, 0.5, 0.5))])\n",
    "\n",
    "trainset = torchvision.datasets.CIFAR10(root='./data', train=True,\n",
    "                                        download=True, transform=transform)\n",
    "trainloader = torch.utils.data.DataLoader(trainset, batch_size=batch_size,\n",
    "                                          shuffle=True, num_workers=6)\n",
    "\n",
    "testset = torchvision.datasets.CIFAR10(root='./data', train=False,\n",
    "                                       download=True, transform=transform)\n",
    "\n",
    "valset, testset = torch.utils.data.random_split(testset, [5000, 5000])\n",
    "testloader = torch.utils.data.DataLoader(testset, batch_size=batch_size,\n",
    "                                         shuffle=False, num_workers=6)\n",
    "\n",
    "valloader = torch.utils.data.DataLoader(valset, batch_size=batch_size,\n",
    "                                         shuffle=False, num_workers=6)\n",
    "\n",
    "classes = ('plane', 'car', 'bird', 'cat',\n",
    "           'deer', 'dog', 'frog', 'horse', 'ship', 'truck')\n",
    "model = Net().to(device)\n",
    "\n",
    "criterion = nn.CrossEntropyLoss()\n",
    "optimizer = optim.SGD(model.parameters(), lr=0.01, momentum=0.9)\n",
    "\n",
    "log_file = 'logs/torch_log.csv'\n",
    "model_file = 'models/torch_model.chkp'\n",
    "\n",
    "\n",
    "\n",
    "optimize(model, optimizer, trainloader, valloader, epochs, log_file=log_file, model_file=model_file)"
   ]
  },
  {
   "cell_type": "code",
   "execution_count": 10,
   "metadata": {},
   "outputs": [
    {
     "data": {
      "image/png": "[encoded data removed]",
      "text/plain": [
       "<Figure size 432x288 with 1 Axes>"
      ]
     },
     "metadata": {
      "needs_background": "light"
     },
     "output_type": "display_data"
    },
    {
     "data": {
      "image/png": "[encoded data removed]",
      "text/plain": [
       "<Figure size 432x288 with 1 Axes>"
      ]
     },
     "metadata": {
      "needs_background": "light"
     },
     "output_type": "display_data"
    }
   ],
   "source": [
    "training_trajectory = pd.read_csv(log_file)\n",
    "training_trajectory.head()\n",
    "for x in set(map(lambda x: x.split('_')[1], training_trajectory['metric'].unique())):\n",
    "    data = training_trajectory[training_trajectory['metric'].str.contains(x)]\n",
    "    sns.lineplot(data=data, x='step', y='value', hue='metric')\n",
    "    plt.show()"
   ]
  },
  {
   "cell_type": "code",
   "execution_count": 11,
   "metadata": {},
   "outputs": [
    {
     "data": {
      "text/plain": [
       "0.7316"
      ]
     },
     "execution_count": 11,
     "metadata": {},
     "output_type": "execute_result"
    }
   ],
   "source": [
    "model = Net().to(device)\n",
    "model.load_state_dict(torch.load(model_file))\n",
    "model.eval()\n",
    "\n",
    "accuracy_dataset(model, testloader)"
   ]
  },
  {
   "cell_type": "code",
   "execution_count": null,
   "metadata": {},
   "outputs": [],
   "source": []
  }
 ],
 "metadata": {
  "kernelspec": {
   "display_name": "Python 3",
   "language": "python",
   "name": "python3"
  },
  "language_info": {
   "codemirror_mode": {
    "name": "ipython",
    "version": 3
   },
   "file_extension": ".py",
   "mimetype": "text/x-python",
   "name": "python",
   "nbconvert_exporter": "python",
   "pygments_lexer": "ipython3",
   "version": "3.8.6"
  }
 },
 "nbformat": 4,
 "nbformat_minor": 4
}
